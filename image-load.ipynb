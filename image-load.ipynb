{
 "cells": [
  {
   "cell_type": "code",
   "execution_count": 2,
   "metadata": {},
   "outputs": [],
   "source": [
    "import numpy as np\n",
    "import cv2 as cv\n",
    "import scipy as sp\n",
    "import matplotlib.pyplot as plt"
   ]
  },
  {
   "cell_type": "code",
   "execution_count": 17,
   "metadata": {},
   "outputs": [],
   "source": [
    "for i in np.linspace(8,15,15-8, dtype=np.uint8):\n",
    "    img = cv.imread(f'./test-data/CMU0-1/original/medium{i:02d}.JPG')\n",
    "    img = cv.cvtColor(img, cv.COLOR_BGR2GRAY)\n",
    "    img = sp.ndimage.zoom(img, 0.2, order=2)\n",
    "    cv.imwrite(f\"./test-data/CMU0-1/modified/{i-8:02d}.JPG\", img)"
   ]
  }
 ],
 "metadata": {
  "kernelspec": {
   "display_name": "MA438-Personal-Work",
   "language": "python",
   "name": "python3"
  },
  "language_info": {
   "codemirror_mode": {
    "name": "ipython",
    "version": 3
   },
   "file_extension": ".py",
   "mimetype": "text/x-python",
   "name": "python",
   "nbconvert_exporter": "python",
   "pygments_lexer": "ipython3",
   "version": "3.12.1"
  }
 },
 "nbformat": 4,
 "nbformat_minor": 2
}
